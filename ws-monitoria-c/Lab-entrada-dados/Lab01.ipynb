{
 "cells": [
  {
   "cell_type": "markdown",
   "id": "d75a271d-468e-4853-ba11-f6ce2dde5ebf",
   "metadata": {},
   "source": [
    "# Questão 1\n",
    "Crie um programa que peça sua idade e seu salário e exiba a idade e o salário digitados."
   ]
  },
  {
   "cell_type": "code",
   "execution_count": 10,
   "id": "acfa1de3-39ed-4cff-b6ab-162c64b36ea3",
   "metadata": {},
   "outputs": [
    {
     "name": "stdout",
     "output_type": "stream",
     "text": [
      "Idade: 23\n",
      "Salario: 5000.00\n"
     ]
    }
   ],
   "source": [
    "#include <stdio.h>\n",
    "\n",
    "int main(){\n",
    "\n",
    "    int idade;\n",
    "    float salario;\n",
    "\n",
    "    idade = 23;\n",
    "    salario = 5000.00;\n",
    "    \n",
    "    scanf(\"%d%f\", &idade, &salario);\n",
    "\n",
    "    printf(\"Idade: %d\\nSalario: %3.2f\\n\", idade, salario);\n",
    "    \n",
    "    return 0;\n",
    "}"
   ]
  },
  {
   "cell_type": "markdown",
   "id": "65a46734-50f1-456e-bf47-5cdc5c5892f3",
   "metadata": {},
   "source": [
    "# Questão 2\n",
    "Crie um programa que peça para o usuário digitar a altura e a base de um triângulo e calcule e\n",
    "exiba qual é a sua área. As saídas do programa devem ser semelhantes às apresentadas no\n",
    "quadro abaixo.\n"
   ]
  },
  {
   "cell_type": "code",
   "execution_count": 13,
   "id": "2356a10b-6d52-4826-b863-75738322b29d",
   "metadata": {},
   "outputs": [
    {
     "name": "stdout",
     "output_type": "stream",
     "text": [
      "Area =  7.50\n"
     ]
    }
   ],
   "source": [
    "#include <stdio.h>\n",
    "\n",
    "int main(){\n",
    "\n",
    "    float altura, base, area;\n",
    "\n",
    "    altura = 3.0;\n",
    "    base = 5.0;\n",
    "\n",
    "    scanf(\"%f%f\",&altura, &base);\n",
    "    \n",
    "    area = (altura * base)/ 2;\n",
    "\n",
    "    printf(\"Area =  %3.2f\\n\", area);\n",
    "\n",
    "    return 0;\n",
    "    \n",
    "}"
   ]
  }
 ],
 "metadata": {
  "kernelspec": {
   "display_name": "C",
   "language": "c",
   "name": "c"
  },
  "language_info": {
   "file_extension": ".c",
   "mimetype": "text/plain",
   "name": "c"
  }
 },
 "nbformat": 4,
 "nbformat_minor": 5
}
